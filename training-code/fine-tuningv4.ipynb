{
 "cells": [
  {
   "cell_type": "markdown",
   "metadata": {},
   "source": [
    "# TRAINING SESSION 2 - ViTl"
   ]
  },
  {
   "cell_type": "code",
   "execution_count": null,
   "metadata": {},
   "outputs": [],
   "source": [
    "import numpy as np\n",
    "import matplotlib.pyplot as plt\n",
    "import os\n",
    "from tqdm import tqdm\n",
    "import cv2\n",
    "import random\n",
    "import h5py\n",
    "import gc\n",
    "from accelerate import Accelerator\n",
    "from accelerate.utils import set_seed\n",
    "from accelerate import notebook_launcher\n",
    "from accelerate import DistributedDataParallelKwargs\n",
    "\n",
    "import transformers\n",
    "\n",
    "import torch\n",
    "import torchvision\n",
    "from torchvision.transforms import v2\n",
    "from torchvision.transforms import Compose\n",
    "import torch.nn.functional as F\n",
    "import albumentations as A\n",
    "\n",
    "from depth_anything_v2.dpt import DepthAnythingV2\n",
    "from util.loss import SiLogLoss\n",
    "from dataset.transform import Resize, NormalizeImage, PrepareForNet, Crop\n",
    "\n",
    "import json\n",
    "from pathlib import Path\n",
    "import struct\n",
    "from sklearn.model_selection import train_test_split\n",
    "from torch.utils.data import DataLoader, Subset\n",
    "from dataclasses import dataclass\n",
    "from typing import Tuple\n",
    "import pandas as pd\n",
    "import seaborn as sns\n"
   ]
  },
  {
   "cell_type": "markdown",
   "metadata": {},
   "source": [
    "## Helper Functions"
   ]
  },
  {
   "cell_type": "code",
   "execution_count": null,
   "metadata": {},
   "outputs": [],
   "source": [
    "\n",
    "# Read Depth as PFM file\n",
    "def read_pfm(filename):\n",
    "    with Path(filename).open('rb') as pfm_file:\n",
    "\n",
    "        line1, line2, line3 = (pfm_file.readline().decode('latin-1').strip() for _ in range(3))\n",
    "        assert line1 in ('PF', 'Pf')\n",
    "        \n",
    "        channels = 3 if \"PF\" in line1 else 1\n",
    "        width, height = (int(s) for s in line2.split())\n",
    "        scale_endianess = float(line3)\n",
    "        bigendian = scale_endianess > 0\n",
    "        scale = abs(scale_endianess)\n",
    "\n",
    "        buffer = pfm_file.read()\n",
    "        samples = width * height * channels\n",
    "        assert len(buffer) == samples * 4\n",
    "        \n",
    "        fmt = f'{\"<>\"[bigendian]}{samples}f'\n",
    "        decoded = struct.unpack(fmt, buffer)\n",
    "        shape = (height, width, 3) if channels == 3 else (height, width)\n",
    "        return np.flipud(np.reshape(decoded, shape)) * scale\n",
    "    \n",
    "def read_depths(depth_file_path):\n",
    "    \n",
    "    filename = depth_file_path.split(\"/\")[-1]\n",
    "    # InSpaceType\n",
    "    if filename.endswith(\".pfm\"):\n",
    "        depth_pfm = read_pfm(depth_file_path)\n",
    "        invalid_mask = np.where(depth_pfm == np.inf)\n",
    "        depth_pfm[invalid_mask] = 0\n",
    "        # Also set values above 19.0 to 0 to reduce noise\n",
    "        depth_pfm[depth_pfm > 19.0] = 0\n",
    "        depth = depth_pfm\n",
    "    \n",
    "    elif filename.endswith(\".npy\"):\n",
    "        depth = np.load(depth_file_path)\n",
    "    elif filename.endswith(\".tiff\"):\n",
    "        depth = cv2.imread(depth_file_path, cv2.IMREAD_UNCHANGED).astype(np.float32)\n",
    "    return depth\n",
    "\n",
    "def read_images(image_file_path):\n",
    "    \n",
    "    filename = image_file_path.split(\"/\")[-1]\n",
    "\n",
    "    if filename.endswith(\".png\"):\n",
    "        image = cv2.imread(image_file_path, cv2.IMREAD_COLOR)\n",
    "        image = cv2.cvtColor(image, cv2.COLOR_BGR2RGB)\n",
    "    elif filename.endswith(\".jpg\"):\n",
    "        image = cv2.imread(image_file_path, cv2.IMREAD_COLOR)\n",
    "        image = cv2.cvtColor(image, cv2.COLOR_BGR2RGB)\n",
    "\n",
    "    return image\n",
    "\n",
    "def reduce_dataset(dataset, reduction_factor=0.9, seed=42):\n",
    "    \"\"\"\n",
    "    Reduces the dataset by the specified reduction factor.\n",
    "    Keeps (1 - reduction_factor) percentage of the data.\n",
    "    \"\"\"\n",
    "    num_samples = len(dataset)\n",
    "    reduced_size = int(num_samples * (1 - reduction_factor))\n",
    "    random.seed(seed)\n",
    "    indices = random.sample(range(num_samples), reduced_size)\n",
    "    return Subset(dataset, indices)\n",
    "\n",
    "## Setup Training and Validation Paths\n",
    "training_jsons_path = \"/media/navvis/Extreme Pro/MDE-TRAINING-CODE/mde-training/Depth-Anything-V2/training-jsons/Training3-LoadRunner/\"\n",
    "\n",
    "no_check_list =  ['train_data.json', 'test_data.json', 'combined_train.json']\n",
    "# Load all JSON files\n",
    "json_files = [file for file in os.listdir(training_jsons_path) if file.endswith(\".json\") and file not in no_check_list]\n",
    "\n",
    "# Combine all RGB and DEPTH paths\n",
    "combined_data = {\"RGB\": [], \"DEPTH\": []}\n",
    "\n",
    "for file in json_files:\n",
    "    with open(f\"{training_jsons_path}{file}\", \"r\") as f:\n",
    "        data = json.load(f)\n",
    "        combined_data[\"RGB\"].extend(data[\"RGB\"])\n",
    "        combined_data[\"DEPTH\"].extend(data[\"DEPTH\"])\n",
    "\n",
    "# Save combined data to a JSON file for future use (optional)\n",
    "combined_json_path = f\"{training_jsons_path}combined_train.json\"\n",
    "with open(combined_json_path, \"w\") as f:\n",
    "    json.dump(combined_data, f, indent=4)\n",
    "\n",
    "print(f\"Combined JSON saved at {combined_json_path}\")\n",
    "print(f\"Total number of samples: {len(combined_data['RGB'])}\")\n",
    "\n",
    "\n",
    "## Split Train-Test\n",
    "# Define the split ratio\n",
    "train_ratio = 0.95  # Training - Testing\n",
    "\n",
    "# Split the data\n",
    "rgb_train, rgb_test, depth_train, depth_test = train_test_split(\n",
    "    combined_data[\"RGB\"], combined_data[\"DEPTH\"], test_size=1-train_ratio, random_state=42\n",
    ")\n",
    "\n",
    "# Create the training and testing JSON structures\n",
    "train_data = {\"RGB\": rgb_train, \"DEPTH\": depth_train}\n",
    "test_data = {\"RGB\": rgb_test, \"DEPTH\": depth_test}\n",
    "\n",
    "# Save training and testing JSONs\n",
    "train_json_path = f\"{training_jsons_path}train_data.json\"\n",
    "test_json_path = f\"{training_jsons_path}test_data.json\"\n",
    "\n",
    "\n",
    "    \n",
    "with open(train_json_path, \"w\") as f:\n",
    "    json.dump(train_data, f, indent=4)\n",
    "with open(test_json_path, \"w\") as f:\n",
    "    json.dump(test_data, f, indent=4)\n",
    "\n",
    "print(f\"Training JSON saved at {train_json_path}\")\n",
    "print(f\"Testing JSON saved at {test_json_path}\")\n",
    "print(f\"Training samples: {len(train_data['RGB'])}\")\n",
    "print(f\"Testing samples: {len(test_data['RGB'])}\")\n",
    "## Load Dataset\n",
    "\n",
    "@dataclass\n",
    "class DataConfig:\n",
    "    train_json_path: str\n",
    "    test_json_path: str\n",
    "    size: Tuple[int, int] = (518, 518)  # Default size for resizing\n",
    "\n",
    "    def load_data(self):\n",
    "        # Load train and test data from JSON files\n",
    "        with open(self.train_json_path, \"r\") as f:\n",
    "            train_data = json.load(f)\n",
    "        with open(self.test_json_path, \"r\") as f:\n",
    "            test_data = json.load(f)\n",
    "        return train_data, test_data\n",
    "## Custom Dataset Class\n",
    "class CustomDepthDataset(torch.utils.data.Dataset):\n",
    "    def __init__(self, data, mode, size=(518, 518)):\n",
    "        \"\"\"\n",
    "        Initialize the dataset.\n",
    "        :param data: A dictionary with \"RGB\" and \"DEPTH\" keys containing file paths.\n",
    "        :param mode: 'train' or 'val'\n",
    "        :param size: Tuple (width, height) for resizing images.\n",
    "        \"\"\"\n",
    "        self.mode = mode  # train or val\n",
    "        self.size = size\n",
    "        self.rgb_paths = data[\"RGB\"]\n",
    "        self.depth_paths = data[\"DEPTH\"]\n",
    "\n",
    "        net_w, net_h = size\n",
    "        # Define transforms (same logic as NYU class)\n",
    "        self.transform = Compose([\n",
    "            Resize(\n",
    "                width=net_w,\n",
    "                height=net_h,\n",
    "                resize_target=True if mode == 'train' else False,\n",
    "                keep_aspect_ratio=False, # Dataset contains images with different aspect ratios\n",
    "                ensure_multiple_of=14,\n",
    "                resize_method='lower_bound',\n",
    "                image_interpolation_method=cv2.INTER_CUBIC,\n",
    "            ),\n",
    "            # ImageNet mean and std normalization\n",
    "            NormalizeImage(mean=[0.485, 0.456, 0.406], std=[0.229, 0.224, 0.225]),\n",
    "            PrepareForNet(),\n",
    "        ] + ([Crop(size[0])] if self.mode == 'train' else []))\n",
    "\n",
    "        # Augmentations for training only\n",
    "        self.augs = A.Compose([\n",
    "            A.HorizontalFlip(),\n",
    "            A.ColorJitter(hue=0.1, contrast=0.1, brightness=0.1, saturation=0.1, p=0.2),\n",
    "            A.GaussNoise(var_limit=25, p=0.2),\n",
    "        ])\n",
    "\n",
    "    def __getitem__(self, index):\n",
    "        rgb_path = self.rgb_paths[index]\n",
    "        depth_path = self.depth_paths[index]\n",
    "\n",
    "        # Load RGB and depth images\n",
    "        rgb = self.load_rgb(rgb_path)\n",
    "        depth = self.load_depth(depth_path)\n",
    "\n",
    "        # Resize to target size\n",
    "        rgb = cv2.resize(rgb, self.size, interpolation=cv2.INTER_AREA)\n",
    "        depth = cv2.resize(depth, self.size, interpolation=cv2.INTER_NEAREST)\n",
    "\n",
    "        if self.mode == 'train':\n",
    "            # Apply augmentations\n",
    "            augmented = self.augs(image=rgb, mask=depth)\n",
    "            rgb = augmented[\"image\"] / 255.0\n",
    "            depth = augmented[\"mask\"]\n",
    "        else:\n",
    "            rgb = rgb / 255.0\n",
    "\n",
    "        # Apply transforms\n",
    "        sample = self.transform({'image': rgb, 'depth': depth})\n",
    "        sample['image'] = torch.from_numpy(sample['image'])\n",
    "        sample['depth'] = torch.from_numpy(sample['depth'])\n",
    "\n",
    "        return sample\n",
    "\n",
    "   \n",
    "\n",
    "    def __len__(self):\n",
    "        return len(self.rgb_paths)\n",
    "\n",
    "    # TODO: Depth Validation can be Done here\n",
    "    def load_rgb(self, path):\n",
    "        # Use custom `read_images` function\n",
    "        return read_images(path)\n",
    "\n",
    "    def load_depth(self, path):\n",
    "        # Use custom `read_depths` function\n",
    "        return read_depths(path)\n",
    "## Initialize the Dataset for View\n",
    "\n",
    "# Initialize config\n",
    "config = DataConfig(\n",
    "    train_json_path=f\"{training_jsons_path}train_data.json\",\n",
    "    test_json_path=f\"{training_jsons_path}test_data.json\",\n",
    "    size=(518, 518),\n",
    ")\n",
    "\n",
    "# Load data\n",
    "train_data, test_data = config.load_data()\n",
    "\n",
    "# Initialize datasets\n",
    "train_dataset = CustomDepthDataset(train_data, mode='train', size=config.size)\n",
    "test_dataset = CustomDepthDataset(test_data, mode='val', size=config.size)\n",
    "\n",
    "\n",
    "# Initialize dataloaders\n",
    "train_loader = DataLoader(train_dataset, batch_size=6, shuffle=True, num_workers=4)\n",
    "test_loader = DataLoader(test_dataset, batch_size=1, shuffle=False, num_workers=4)\n",
    "\n",
    "\n",
    "\n",
    "print(f\"Train loader has {len(train_loader)} batches.\")\n",
    "print(f\"Test loader has {len(test_loader)} batches.\")\n",
    "## Show some Data Random\n",
    "def visualize_samples(train_dataset, test_dataset, N=5, M=5):\n",
    "    \"\"\"\n",
    "    Visualize N random training samples and M random test samples.\n",
    "    :param train_dataset: PyTorch Dataset for training data.\n",
    "    :param test_dataset: PyTorch Dataset for test data.\n",
    "    :param N: Number of training samples to visualize.\n",
    "    :param M: Number of test samples to visualize.\n",
    "    \"\"\"\n",
    "    # Helper to denormalize RGB images\n",
    "    def denormalize(image):\n",
    "        mean = [0.485, 0.456, 0.406]\n",
    "        std = [0.229, 0.224, 0.225]\n",
    "        image = image * std + mean  # Undo normalization\n",
    "        return (image * 255).astype('uint8')  # Scale to 0-255 range\n",
    "\n",
    "    # Visualize training samples\n",
    "    print(f\"Visualizing {N} random training samples...\")\n",
    "    fig, axes = plt.subplots(N, 2, figsize=(10, 5 * N))\n",
    "    for i in range(N):\n",
    "        idx = random.randint(0, len(train_dataset) - 1)\n",
    "        sample = train_dataset[idx]\n",
    "        rgb = denormalize(sample['image'].numpy().transpose(1, 2, 0))  # HWC format\n",
    "        depth = sample['depth'].numpy()\n",
    "\n",
    "        axes[i, 0].imshow(rgb)\n",
    "        axes[i, 0].set_title(f\"Train RGB Sample {idx}\")\n",
    "        axes[i, 0].axis('off')\n",
    "\n",
    "        depth_im = axes[i, 1].imshow(depth, cmap='inferno')\n",
    "        axes[i, 1].set_title(f\"Train Depth Sample {idx}\")\n",
    "        axes[i, 1].axis('off')\n",
    "        fig.colorbar(depth_im, ax=axes[i, 1], orientation='vertical')\n",
    "\n",
    "    plt.tight_layout()\n",
    "    plt.show()\n",
    "\n",
    "    # Visualize test samples\n",
    "    print(f\"Visualizing {M} random test samples...\")\n",
    "    fig, axes = plt.subplots(M, 2, figsize=(10, 5 * M))\n",
    "    for i in range(M):\n",
    "        idx = random.randint(0, len(test_dataset) - 1)\n",
    "        sample = test_dataset[idx]\n",
    "        rgb = denormalize(sample['image'].numpy().transpose(1, 2, 0))  # HWC format\n",
    "        depth = sample['depth'].numpy()\n",
    "\n",
    "        axes[i, 0].imshow(rgb)\n",
    "        axes[i, 0].set_title(f\"Test RGB Sample {idx}\")\n",
    "        axes[i, 0].axis('off')\n",
    "\n",
    "        depth_im = axes[i, 1].imshow(depth, cmap='inferno')\n",
    "        axes[i, 1].set_title(f\"Test Depth Sample {idx}\")\n",
    "        axes[i, 1].axis('off')\n",
    "        fig.colorbar(depth_im, ax=axes[i, 1], orientation='vertical')\n",
    "\n",
    "    plt.tight_layout()\n",
    "    plt.show()\n",
    "\n",
    "# Call the function to visualize samples\n",
    "visualize_samples(train_dataset, test_dataset, N=3, M=3)"
   ]
  },
  {
   "cell_type": "markdown",
   "metadata": {},
   "source": [
    "## Metrics Function"
   ]
  },
  {
   "cell_type": "code",
   "execution_count": null,
   "metadata": {},
   "outputs": [],
   "source": [
    "def eval_depth(pred, target):\n",
    "    \"\"\"\n",
    "    Evaluate depth predictions against ground truth with various metrics.\n",
    "    \n",
    "    :param pred: Predicted depth map (torch.Tensor).\n",
    "    :param target: Ground truth depth map (torch.Tensor).\n",
    "    :return: Dictionary of evaluation metrics.\n",
    "    \"\"\"\n",
    "    assert pred.shape == target.shape, \"Predicted and target depth maps must have the same shape.\"\n",
    "\n",
    "    # Calculate threshold\n",
    "    thresh = torch.max(target / pred, pred / target)\n",
    "\n",
    "    # Accuracy under thresholds\n",
    "    d1 = torch.sum(thresh < 1.25).float() / len(thresh)\n",
    "    d2 = torch.sum(thresh < 1.25 ** 2).float() / len(thresh)\n",
    "    d3 = torch.sum(thresh < 1.25 ** 3).float() / len(thresh)\n",
    "\n",
    "    # Differences\n",
    "    diff = pred - target\n",
    "    diff_log = torch.log(pred) - torch.log(target)\n",
    "\n",
    "    # Error metrics\n",
    "    abs_rel = torch.mean(torch.abs(diff) / target)  # Absolute Relative Difference\n",
    "    sq_rel = torch.mean(torch.pow(diff, 2) / target)  # Squared Relative Difference\n",
    "    rmse = torch.sqrt(torch.mean(torch.pow(diff, 2)))  # Root Mean Square Error\n",
    "    mae = torch.mean(torch.abs(diff))  # Mean Absolute Error\n",
    "    silog = torch.sqrt(torch.pow(diff_log, 2).mean() - 0.5 * torch.pow(diff_log.mean(), 2))  # Scale-Invariant Log\n",
    "    rmse_log = torch.sqrt(torch.mean(torch.pow(diff_log, 2)))  # RMSE of log differences\n",
    "    log10 = torch.mean(torch.abs(torch.log10(pred) - torch.log10(target)))  # Log10 error\n",
    "\n",
    "\n",
    "    # Return all metrics in a dictionary\n",
    "    return {\n",
    "        'd1': d1,\n",
    "        'd2': d2,\n",
    "        'd3': d3,\n",
    "        'abs_rel': abs_rel,\n",
    "        'sq_rel': sq_rel,\n",
    "        'rmse': rmse,\n",
    "        'mae': mae,\n",
    "        'silog': silog,\n",
    "        'rmse_log': rmse_log,\n",
    "        'log10': log10,\n",
    "    }\n"
   ]
  },
  {
   "cell_type": "markdown",
   "metadata": {},
   "source": [
    "## Setup Parameters"
   ]
  },
  {
   "cell_type": "code",
   "execution_count": null,
   "metadata": {},
   "outputs": [],
   "source": [
    "## Training Parameter Setup\n",
    "model_weights_path = '/media/navvis/Extreme Pro/MDE-TRAINING-CODE/mde-training/Depth-Anything-V2/checkpoints/depth_anything_v2_metric_vkitti_vitl.pth' \n",
    "model_configs = {\n",
    "        'vits': {'encoder': 'vits', 'features': 64, 'out_channels': [48, 96, 192, 384]},\n",
    "        'vitb': {'encoder': 'vitb', 'features': 128, 'out_channels': [96, 192, 384, 768]},\n",
    "        'vitl': {'encoder': 'vitl', 'features': 256, 'out_channels': [256, 512, 1024, 1024]},\n",
    "        'vitg': {'encoder': 'vitg', 'features': 384, 'out_channels': [1536, 1536, 1536, 1536]}\n",
    "    }\n",
    "model_encoder = 'vitl'\n",
    "max_depth = 80.0\n",
    "batch_size = 6\n",
    "lr = 5e-6\n",
    "weight_decay = 0.01\n",
    "num_epochs = 56\n",
    "warmup_epochs = 6.0\n",
    "scheduler_rate = 1\n",
    "load_state = False\n",
    "\n",
    "DATASET = 'custom-trainingv4-ViTb'\n",
    "MODEL_ID = f'{model_encoder}_{lr}_{weight_decay}_epochs{num_epochs}'\n",
    "\n",
    "\n",
    "state_path = \"/media/navvis/Extreme Pro/MDE-TRAINING-CODE/mde-training/Depth-Anything-V2/T-States/\"\n",
    "save_model_path = f'/media/navvis/Extreme Pro/MDE-TRAINING-CODE/mde-training/Depth-Anything-V2/Trained_Checkpoints/{DATASET}_{MODEL_ID}.pth' \n",
    "seed = 42\n",
    "mixed_precision = 'fp16'"
   ]
  },
  {
   "cell_type": "markdown",
   "metadata": {},
   "source": [
    "## Logging"
   ]
  },
  {
   "cell_type": "code",
   "execution_count": null,
   "metadata": {},
   "outputs": [],
   "source": [
    "def save_epoch_metrics_csv(epoch_results, filepath):\n",
    "    \"\"\"\n",
    "    Append single epoch metrics to CSV file\n",
    "    Args:\n",
    "        epoch_results (dict): Dictionary containing metrics for current epoch\n",
    "        filepath (str): Path to save the CSV file\n",
    "    \"\"\"\n",
    "    # Convert the epoch results to a pandas DataFrame (single row)\n",
    "    df_row = pd.DataFrame([epoch_results])\n",
    "    \n",
    "    # If file doesn't exist, write with header. If exists, append without header\n",
    "    df_row.to_csv(filepath, \n",
    "                  mode='a',  # append mode\n",
    "                  header=not os.path.exists(filepath),  # only write header if file doesn't exist\n",
    "                  index=False)\n",
    "    \n",
    "output_path = f\"/media/navvis/Extreme Pro/MDE-TRAINING-CODE/mde-training/Depth-Anything-V2/Trained_Checkpoints/{DATASET}_{MODEL_ID}_log.csv\""
   ]
  },
  {
   "cell_type": "markdown",
   "metadata": {},
   "source": [
    "## Training Loop"
   ]
  },
  {
   "cell_type": "code",
   "execution_count": null,
   "metadata": {},
   "outputs": [],
   "source": [
    "\n",
    "\n",
    "def train_fn():\n",
    "\n",
    "    set_seed(seed)\n",
    "    ddp_kwargs = DistributedDataParallelKwargs(find_unused_parameters=True) # need for freezing layers with DDP\n",
    "    accelerator = Accelerator(mixed_precision=mixed_precision, \n",
    "                              kwargs_handlers=[ddp_kwargs],\n",
    "                             )\n",
    "    \n",
    "    # in the paper they initialize decoder randomly and use only encoder pretrained weights. Then full fine-tune\n",
    "    # ViT-S encoder here\n",
    "    model = DepthAnythingV2(**{**model_configs[model_encoder], 'max_depth': max_depth})\n",
    "    model.load_state_dict({k: v for k, v in torch.load(model_weights_path).items() if 'pretrained' in k}, strict=False)\n",
    "    \n",
    "    optim = torch.optim.AdamW([{'params': [param for name, param in model.named_parameters() if 'pretrained' in name], 'lr': lr},\n",
    "                       {'params': [param for name, param in model.named_parameters() if 'pretrained' not in name], 'lr': lr*10}],\n",
    "                      lr=lr, weight_decay=weight_decay)\n",
    "    \n",
    "    criterion = SiLogLoss() # author's loss\n",
    "#############################################################################################\n",
    "    ## For Reduced Dataset\n",
    "    # train_dataset_reduced = reduce_dataset(train_dataset, reduction_factor=0.95, seed=42)\n",
    "    # test_dataset_reduced = reduce_dataset(test_dataset, reduction_factor=0.98, seed=42)\n",
    "\n",
    "    # train_dataloader = DataLoader(train_dataset_reduced, batch_size=batch_size, shuffle=True, num_workers=4)\n",
    "    # val_dataloader = DataLoader(test_dataset_reduced, batch_size=1, shuffle=False, num_workers=4)\n",
    "\n",
    "\n",
    "    train_dataset = CustomDepthDataset(train_data, mode='train', size=config.size)\n",
    "    test_dataset = CustomDepthDataset(test_data, mode='val', size=config.size)\n",
    "\n",
    "    # Initialize dataloaders\n",
    "    train_dataloader = DataLoader(train_dataset, batch_size=batch_size, shuffle=True, num_workers=4)\n",
    "    val_dataloader = DataLoader(test_dataset, batch_size=1, shuffle=False, num_workers=4)\n",
    "##############################################################################################\n",
    "\n",
    "    # Print Amount of data for Training and Val\n",
    "    print(f\"Train loader has {len(train_dataloader)} batches with {len(train_dataloader)*batch_size} Samples.\")\n",
    "    print(f\"Val loader has {len(val_dataloader)} batches with {len(val_dataloader)*1} Samples.\")\n",
    "\n",
    "    scheduler = transformers.get_cosine_schedule_with_warmup(optim, len(train_dataloader)*warmup_epochs, num_epochs*scheduler_rate*len(train_dataloader))\n",
    "    \n",
    "    model, optim, train_dataloader, val_dataloader, scheduler = accelerator.prepare(model, optim, train_dataloader, val_dataloader, scheduler)\n",
    "\n",
    "    if load_state:\n",
    "        accelerator.wait_for_everyone()\n",
    "        accelerator.load_state(state_path)\n",
    "        \n",
    "    best_val_absrel = 1000\n",
    "\n",
    "\n",
    "    for epoch in range(1, num_epochs):\n",
    "        \n",
    "        model.train()\n",
    "        train_loss = 0\n",
    "        for sample in tqdm(train_dataloader, disable = not accelerator.is_local_main_process):\n",
    "            optim.zero_grad()\n",
    "            \n",
    "            img, depth = sample['image'], sample['depth']\n",
    "            \n",
    "            pred = model(img)                                                            \n",
    "            loss = criterion(pred, depth, (depth <= max_depth) & (depth > 0))\n",
    "            \n",
    "            accelerator.backward(loss)\n",
    "            optim.step()\n",
    "            scheduler.step()\n",
    "            \n",
    "            train_loss += loss.detach()\n",
    "            \n",
    "        train_loss /= len(train_dataloader)\n",
    "        train_loss = accelerator.reduce(train_loss, reduction='mean').item()\n",
    "\n",
    "        model.eval()\n",
    "\n",
    "        # Initialize results\n",
    "        results = {k: torch.tensor(0.0, device=accelerator.device) for k in ['d1', 'abs_rel', 'rmse', 'mae', 'silog']}\n",
    "\n",
    "        # Accumulate metrics\n",
    "        for sample in tqdm(val_dataloader, disable=not accelerator.is_local_main_process):\n",
    "            img, depth = sample['image'].float(), sample['depth'][0]\n",
    "            with torch.no_grad():\n",
    "                pred = model(img)\n",
    "                pred = F.interpolate(pred[:, None], depth.shape[-2:], mode='bilinear', align_corners=True)[0, 0]\n",
    "            valid_mask = (depth <= max_depth) & (depth > 0)\n",
    "            \n",
    "\n",
    "\n",
    "            cur_results = eval_depth(pred[valid_mask], depth[valid_mask])\n",
    "            for k in results.keys():\n",
    "                if not torch.isnan(cur_results[k]).any():\n",
    "                    results[k] += cur_results[k]\n",
    "\n",
    "           \n",
    "        # Compute averages\n",
    "        for k in results.keys():\n",
    "            results[k] = results[k] / (len(val_dataloader))\n",
    "            reduced_value = accelerator.reduce(results[k], reduction='mean')\n",
    "            results[k] = round(reduced_value.item(), 3)\n",
    "            \n",
    "            \n",
    "        accelerator.wait_for_everyone()\n",
    "        accelerator.save_state(state_path, safe_serialization=False)\n",
    "        \n",
    "        if results['abs_rel'] < best_val_absrel:\n",
    "            best_val_absrel = results['abs_rel']\n",
    "            unwrapped_model = accelerator.unwrap_model(model)\n",
    "            if accelerator.is_local_main_process:\n",
    "                torch.save(unwrapped_model.state_dict(), save_model_path)\n",
    "            if epoch == 15 or epoch == 20 or epoch == 25 or epoch == 40 or epoch == 45:\n",
    "                torch.save(unwrapped_model.state_dict(), save_model_path.replace('.pth', f'_epoch{epoch}.pth'))\n",
    "        \n",
    "        accelerator.print(f\"epoch_{epoch},  train_loss = {train_loss:.5f}, val_metrics = {results}\")\n",
    "\n",
    "        # Save the results of the epoch to a CSV file\n",
    "        # 🚨 Logging Results - Training Results get Reset every epoch\n",
    "        \n",
    "        training_results = {'epoch': epoch, 'train_loss': train_loss, 'best_val_absrel': best_val_absrel, 'd1': results['d1'], \n",
    "                                   'abs_rel': results['abs_rel'], 'rmse': results['rmse'], 'mae': results['mae'], \n",
    "                                   'silog': results['silog']}\n",
    "        save_epoch_metrics_csv(training_results, output_path)\n",
    "        \n",
    "        torch.cuda.empty_cache()\n",
    "        gc.collect()\n",
    "\n"
   ]
  },
  {
   "cell_type": "markdown",
   "metadata": {},
   "source": [
    "## Launch Training"
   ]
  },
  {
   "cell_type": "code",
   "execution_count": null,
   "metadata": {},
   "outputs": [
    {
     "data": {
      "text/plain": [
       "0"
      ]
     },
     "metadata": {},
     "output_type": "display_data"
    }
   ],
   "source": [
    "# Purge cuda memory and collect garbage\n",
    "torch.cuda.empty_cache()\n",
    "gc.collect()"
   ]
  },
  {
   "cell_type": "code",
   "execution_count": null,
   "metadata": {},
   "outputs": [
    {
     "name": "stdout",
     "output_type": "stream",
     "text": [
      "Launching training on one GPU.\n"
     ]
    },
    {
     "name": "stderr",
     "output_type": "stream",
     "text": [
      "/tmp/ipykernel_332964/2839372604.py:12: FutureWarning: You are using `torch.load` with `weights_only=False` (the current default value), which uses the default pickle module implicitly. It is possible to construct malicious pickle data which will execute arbitrary code during unpickling (See https://github.com/pytorch/pytorch/blob/main/SECURITY.md#untrusted-models for more details). In a future release, the default value for `weights_only` will be flipped to `True`. This limits the functions that could be executed during unpickling. Arbitrary objects will no longer be allowed to be loaded via this mode unless they are explicitly allowlisted by the user via `torch.serialization.add_safe_globals`. We recommend you start setting `weights_only=True` for any use case where you don't have full control of the loaded file. Please open an issue on GitHub for any issues related to this experimental feature.\n",
      "  model.load_state_dict({k: v for k, v in torch.load(model_weights_path).items() if 'pretrained' in k}, strict=False)\n"
     ]
    },
    {
     "name": "stdout",
     "output_type": "stream",
     "text": [
      "Train loader has 8402 batches with 67216 Samples.\n",
      "Val loader has 3538 batches with 3538 Samples.\n"
     ]
    },
    {
     "name": "stderr",
     "output_type": "stream",
     "text": [
      "100%|██████████| 8402/8402 [1:01:07<00:00,  2.29it/s]\n",
      "100%|██████████| 3538/3538 [02:38<00:00, 22.32it/s]\n"
     ]
    },
    {
     "name": "stdout",
     "output_type": "stream",
     "text": [
      "epoch_1,  train_loss = 0.59896, val_metrics = {'d1': 0.467, 'abs_rel': 0.483, 'rmse': 2.498, 'mae': 1.685, 'silog': 0.367}\n"
     ]
    },
    {
     "name": "stderr",
     "output_type": "stream",
     "text": [
      "100%|██████████| 8402/8402 [59:35<00:00,  2.35it/s] \n",
      "100%|██████████| 3538/3538 [02:39<00:00, 22.21it/s]\n"
     ]
    },
    {
     "name": "stdout",
     "output_type": "stream",
     "text": [
      "epoch_2,  train_loss = 0.40380, val_metrics = {'d1': 0.706, 'abs_rel': 0.268, 'rmse': 2.235, 'mae': 1.319, 'silog': 0.298}\n"
     ]
    },
    {
     "name": "stderr",
     "output_type": "stream",
     "text": [
      "100%|██████████| 8402/8402 [59:33<00:00,  2.35it/s] \n",
      "100%|██████████| 3538/3538 [02:39<00:00, 22.21it/s]\n"
     ]
    },
    {
     "name": "stdout",
     "output_type": "stream",
     "text": [
      "epoch_3,  train_loss = 0.37059, val_metrics = {'d1': 0.706, 'abs_rel': 0.276, 'rmse': 2.033, 'mae': 1.205, 'silog': 0.291}\n"
     ]
    },
    {
     "name": "stderr",
     "output_type": "stream",
     "text": [
      "100%|██████████| 8402/8402 [59:38<00:00,  2.35it/s]\n",
      "100%|██████████| 3538/3538 [02:38<00:00, 22.27it/s]\n"
     ]
    },
    {
     "name": "stdout",
     "output_type": "stream",
     "text": [
      "epoch_4,  train_loss = 0.35173, val_metrics = {'d1': 0.731, 'abs_rel': 0.271, 'rmse': 2.053, 'mae': 1.222, 'silog': 0.282}\n"
     ]
    },
    {
     "name": "stderr",
     "output_type": "stream",
     "text": [
      "100%|██████████| 8402/8402 [59:34<00:00,  2.35it/s] \n",
      "100%|██████████| 3538/3538 [02:38<00:00, 22.29it/s]\n"
     ]
    },
    {
     "name": "stdout",
     "output_type": "stream",
     "text": [
      "epoch_5,  train_loss = 0.33888, val_metrics = {'d1': 0.619, 'abs_rel': 0.333, 'rmse': 2.036, 'mae': 1.312, 'silog': 0.296}\n"
     ]
    },
    {
     "name": "stderr",
     "output_type": "stream",
     "text": [
      "100%|██████████| 8402/8402 [59:36<00:00,  2.35it/s]  \n",
      "100%|██████████| 3538/3538 [02:39<00:00, 22.25it/s]\n"
     ]
    },
    {
     "name": "stdout",
     "output_type": "stream",
     "text": [
      "epoch_6,  train_loss = 0.33095, val_metrics = {'d1': 0.702, 'abs_rel': 0.303, 'rmse': 1.907, 'mae': 1.178, 'silog': 0.275}\n"
     ]
    },
    {
     "name": "stderr",
     "output_type": "stream",
     "text": [
      "100%|██████████| 8402/8402 [59:34<00:00,  2.35it/s] \n",
      "100%|██████████| 3538/3538 [02:38<00:00, 22.30it/s]\n"
     ]
    },
    {
     "name": "stdout",
     "output_type": "stream",
     "text": [
      "epoch_7,  train_loss = 0.31961, val_metrics = {'d1': 0.757, 'abs_rel': 0.261, 'rmse': 1.838, 'mae': 1.091, 'silog': 0.262}\n"
     ]
    },
    {
     "name": "stderr",
     "output_type": "stream",
     "text": [
      "100%|██████████| 8402/8402 [59:36<00:00,  2.35it/s]\n",
      "100%|██████████| 3538/3538 [02:39<00:00, 22.23it/s]\n"
     ]
    },
    {
     "name": "stdout",
     "output_type": "stream",
     "text": [
      "epoch_8,  train_loss = 0.30829, val_metrics = {'d1': 0.747, 'abs_rel': 0.293, 'rmse': 1.791, 'mae': 1.064, 'silog': 0.262}\n"
     ]
    },
    {
     "name": "stderr",
     "output_type": "stream",
     "text": [
      "100%|██████████| 8402/8402 [59:36<00:00,  2.35it/s]\n",
      "100%|██████████| 3538/3538 [02:39<00:00, 22.18it/s]\n"
     ]
    },
    {
     "name": "stdout",
     "output_type": "stream",
     "text": [
      "epoch_9,  train_loss = 0.29775, val_metrics = {'d1': 0.797, 'abs_rel': 0.252, 'rmse': 1.736, 'mae': 1.011, 'silog': 0.25}\n"
     ]
    },
    {
     "name": "stderr",
     "output_type": "stream",
     "text": [
      "100%|██████████| 8402/8402 [59:38<00:00,  2.35it/s]\n",
      "100%|██████████| 3538/3538 [02:38<00:00, 22.26it/s]\n"
     ]
    },
    {
     "name": "stdout",
     "output_type": "stream",
     "text": [
      "epoch_10,  train_loss = 0.28826, val_metrics = {'d1': 0.817, 'abs_rel': 0.219, 'rmse': 1.691, 'mae': 0.953, 'silog': 0.242}\n"
     ]
    },
    {
     "name": "stderr",
     "output_type": "stream",
     "text": [
      "100%|██████████| 8402/8402 [59:36<00:00,  2.35it/s] \n",
      "100%|██████████| 3538/3538 [02:38<00:00, 22.32it/s]\n"
     ]
    },
    {
     "name": "stdout",
     "output_type": "stream",
     "text": [
      "epoch_11,  train_loss = 0.28126, val_metrics = {'d1': 0.823, 'abs_rel': 0.216, 'rmse': 1.739, 'mae': 0.973, 'silog': 0.241}\n"
     ]
    },
    {
     "name": "stderr",
     "output_type": "stream",
     "text": [
      "100%|██████████| 8402/8402 [59:36<00:00,  2.35it/s]\n",
      "100%|██████████| 3538/3538 [02:38<00:00, 22.30it/s]\n"
     ]
    },
    {
     "name": "stdout",
     "output_type": "stream",
     "text": [
      "epoch_12,  train_loss = 0.27371, val_metrics = {'d1': 0.8, 'abs_rel': 0.235, 'rmse': 1.761, 'mae': 1.008, 'silog': 0.246}\n"
     ]
    },
    {
     "name": "stderr",
     "output_type": "stream",
     "text": [
      "100%|██████████| 8402/8402 [59:34<00:00,  2.35it/s]\n",
      "100%|██████████| 3538/3538 [02:38<00:00, 22.26it/s]\n"
     ]
    },
    {
     "name": "stdout",
     "output_type": "stream",
     "text": [
      "epoch_13,  train_loss = 0.26490, val_metrics = {'d1': 0.822, 'abs_rel': 0.213, 'rmse': 1.739, 'mae': 0.97, 'silog': 0.239}\n"
     ]
    },
    {
     "name": "stderr",
     "output_type": "stream",
     "text": [
      "100%|██████████| 8402/8402 [59:37<00:00,  2.35it/s] \n",
      "100%|██████████| 3538/3538 [02:38<00:00, 22.28it/s]\n"
     ]
    },
    {
     "name": "stdout",
     "output_type": "stream",
     "text": [
      "epoch_14,  train_loss = 0.25938, val_metrics = {'d1': 0.824, 'abs_rel': 0.219, 'rmse': 1.643, 'mae': 0.925, 'silog': 0.234}\n"
     ]
    },
    {
     "name": "stderr",
     "output_type": "stream",
     "text": [
      "100%|██████████| 8402/8402 [59:38<00:00,  2.35it/s]\n",
      "100%|██████████| 3538/3538 [02:39<00:00, 22.25it/s]\n"
     ]
    },
    {
     "name": "stdout",
     "output_type": "stream",
     "text": [
      "epoch_15,  train_loss = 0.25246, val_metrics = {'d1': 0.825, 'abs_rel': 0.219, 'rmse': 1.676, 'mae': 0.949, 'silog': 0.236}\n"
     ]
    },
    {
     "name": "stderr",
     "output_type": "stream",
     "text": [
      "100%|██████████| 8402/8402 [59:40<00:00,  2.35it/s]\n",
      "100%|██████████| 3538/3538 [02:39<00:00, 22.22it/s]\n"
     ]
    },
    {
     "name": "stdout",
     "output_type": "stream",
     "text": [
      "epoch_16,  train_loss = 0.24743, val_metrics = {'d1': 0.844, 'abs_rel': 0.211, 'rmse': 1.609, 'mae': 0.891, 'silog': 0.228}\n"
     ]
    },
    {
     "name": "stderr",
     "output_type": "stream",
     "text": [
      "100%|██████████| 8402/8402 [59:40<00:00,  2.35it/s]\n",
      "100%|██████████| 3538/3538 [02:38<00:00, 22.28it/s]\n"
     ]
    },
    {
     "name": "stdout",
     "output_type": "stream",
     "text": [
      "epoch_17,  train_loss = 0.24218, val_metrics = {'d1': 0.849, 'abs_rel': 0.213, 'rmse': 1.577, 'mae': 0.872, 'silog': 0.225}\n"
     ]
    },
    {
     "name": "stderr",
     "output_type": "stream",
     "text": [
      "100%|██████████| 8402/8402 [59:43<00:00,  2.34it/s] \n",
      "100%|██████████| 3538/3538 [02:39<00:00, 22.24it/s]\n"
     ]
    },
    {
     "name": "stdout",
     "output_type": "stream",
     "text": [
      "epoch_18,  train_loss = 0.23741, val_metrics = {'d1': 0.819, 'abs_rel': 0.214, 'rmse': 1.654, 'mae': 0.953, 'silog': 0.235}\n"
     ]
    },
    {
     "name": "stderr",
     "output_type": "stream",
     "text": [
      "100%|██████████| 8402/8402 [59:38<00:00,  2.35it/s]\n",
      "100%|██████████| 3538/3538 [02:38<00:00, 22.27it/s]\n"
     ]
    },
    {
     "name": "stdout",
     "output_type": "stream",
     "text": [
      "epoch_19,  train_loss = 0.23195, val_metrics = {'d1': 0.838, 'abs_rel': 0.218, 'rmse': 1.595, 'mae': 0.907, 'silog': 0.23}\n"
     ]
    },
    {
     "name": "stderr",
     "output_type": "stream",
     "text": [
      "100%|██████████| 8402/8402 [59:36<00:00,  2.35it/s] \n",
      "100%|██████████| 3538/3538 [02:38<00:00, 22.28it/s]\n"
     ]
    },
    {
     "name": "stdout",
     "output_type": "stream",
     "text": [
      "epoch_20,  train_loss = 0.22809, val_metrics = {'d1': 0.844, 'abs_rel': 0.199, 'rmse': 1.625, 'mae': 0.91, 'silog': 0.228}\n"
     ]
    },
    {
     "name": "stderr",
     "output_type": "stream",
     "text": [
      "100%|██████████| 8402/8402 [59:37<00:00,  2.35it/s] \n",
      "100%|██████████| 3538/3538 [02:39<00:00, 22.25it/s]\n"
     ]
    },
    {
     "name": "stdout",
     "output_type": "stream",
     "text": [
      "epoch_21,  train_loss = 0.22438, val_metrics = {'d1': 0.849, 'abs_rel': 0.214, 'rmse': 1.582, 'mae': 0.883, 'silog': 0.225}\n"
     ]
    },
    {
     "name": "stderr",
     "output_type": "stream",
     "text": [
      "100%|██████████| 8402/8402 [59:38<00:00,  2.35it/s]\n",
      "100%|██████████| 3538/3538 [02:39<00:00, 22.19it/s]\n"
     ]
    },
    {
     "name": "stdout",
     "output_type": "stream",
     "text": [
      "epoch_22,  train_loss = 0.21900, val_metrics = {'d1': 0.855, 'abs_rel': 0.21, 'rmse': 1.546, 'mae': 0.853, 'silog': 0.219}\n"
     ]
    },
    {
     "name": "stderr",
     "output_type": "stream",
     "text": [
      "100%|██████████| 8402/8402 [59:36<00:00,  2.35it/s] \n",
      "100%|██████████| 3538/3538 [02:39<00:00, 22.17it/s]\n"
     ]
    },
    {
     "name": "stdout",
     "output_type": "stream",
     "text": [
      "epoch_23,  train_loss = 0.21622, val_metrics = {'d1': 0.851, 'abs_rel': 0.202, 'rmse': 1.609, 'mae': 0.887, 'silog': 0.223}\n"
     ]
    },
    {
     "name": "stderr",
     "output_type": "stream",
     "text": [
      "100%|██████████| 8402/8402 [59:34<00:00,  2.35it/s] \n",
      "100%|██████████| 3538/3538 [02:38<00:00, 22.30it/s]\n"
     ]
    },
    {
     "name": "stdout",
     "output_type": "stream",
     "text": [
      "epoch_24,  train_loss = 0.21204, val_metrics = {'d1': 0.855, 'abs_rel': 0.184, 'rmse': 1.563, 'mae': 0.849, 'silog': 0.219}\n"
     ]
    },
    {
     "name": "stderr",
     "output_type": "stream",
     "text": [
      "100%|██████████| 8402/8402 [59:46<00:00,  2.34it/s]\n",
      "100%|██████████| 3538/3538 [02:38<00:00, 22.31it/s]\n"
     ]
    },
    {
     "name": "stdout",
     "output_type": "stream",
     "text": [
      "epoch_25,  train_loss = 0.20795, val_metrics = {'d1': 0.863, 'abs_rel': 0.192, 'rmse': 1.502, 'mae': 0.811, 'silog': 0.215}\n"
     ]
    },
    {
     "name": "stderr",
     "output_type": "stream",
     "text": [
      "100%|██████████| 8402/8402 [59:44<00:00,  2.34it/s] \n",
      "100%|██████████| 3538/3538 [02:39<00:00, 22.21it/s]\n"
     ]
    },
    {
     "name": "stdout",
     "output_type": "stream",
     "text": [
      "epoch_26,  train_loss = 0.20500, val_metrics = {'d1': 0.865, 'abs_rel': 0.187, 'rmse': 1.503, 'mae': 0.815, 'silog': 0.215}\n"
     ]
    },
    {
     "name": "stderr",
     "output_type": "stream",
     "text": [
      "100%|██████████| 8402/8402 [59:43<00:00,  2.34it/s] \n",
      "100%|██████████| 3538/3538 [02:38<00:00, 22.27it/s]\n"
     ]
    },
    {
     "name": "stdout",
     "output_type": "stream",
     "text": [
      "epoch_27,  train_loss = 0.20251, val_metrics = {'d1': 0.867, 'abs_rel': 0.192, 'rmse': 1.51, 'mae': 0.809, 'silog': 0.214}\n"
     ]
    },
    {
     "name": "stderr",
     "output_type": "stream",
     "text": [
      "100%|██████████| 8402/8402 [59:44<00:00,  2.34it/s] \n",
      "100%|██████████| 3538/3538 [02:38<00:00, 22.30it/s]\n"
     ]
    },
    {
     "name": "stdout",
     "output_type": "stream",
     "text": [
      "epoch_28,  train_loss = 0.19821, val_metrics = {'d1': 0.867, 'abs_rel': 0.192, 'rmse': 1.482, 'mae': 0.801, 'silog': 0.213}\n"
     ]
    },
    {
     "name": "stderr",
     "output_type": "stream",
     "text": [
      "100%|██████████| 8402/8402 [59:43<00:00,  2.34it/s]\n",
      "100%|██████████| 3538/3538 [02:38<00:00, 22.27it/s]\n"
     ]
    },
    {
     "name": "stdout",
     "output_type": "stream",
     "text": [
      "epoch_29,  train_loss = 0.19562, val_metrics = {'d1': 0.869, 'abs_rel': 0.197, 'rmse': 1.472, 'mae': 0.796, 'silog': 0.211}\n"
     ]
    },
    {
     "name": "stderr",
     "output_type": "stream",
     "text": [
      "100%|██████████| 8402/8402 [59:38<00:00,  2.35it/s]\n",
      "100%|██████████| 3538/3538 [02:39<00:00, 22.22it/s]\n"
     ]
    },
    {
     "name": "stdout",
     "output_type": "stream",
     "text": [
      "epoch_30,  train_loss = 0.19221, val_metrics = {'d1': 0.867, 'abs_rel': 0.19, 'rmse': 1.48, 'mae': 0.795, 'silog': 0.211}\n"
     ]
    },
    {
     "name": "stderr",
     "output_type": "stream",
     "text": [
      "100%|██████████| 8402/8402 [59:43<00:00,  2.34it/s] \n",
      "100%|██████████| 3538/3538 [02:38<00:00, 22.32it/s]\n"
     ]
    },
    {
     "name": "stdout",
     "output_type": "stream",
     "text": [
      "epoch_31,  train_loss = 0.18970, val_metrics = {'d1': 0.873, 'abs_rel': 0.185, 'rmse': 1.448, 'mae': 0.774, 'silog': 0.209}\n"
     ]
    },
    {
     "name": "stderr",
     "output_type": "stream",
     "text": [
      "100%|██████████| 8402/8402 [59:43<00:00,  2.34it/s]\n",
      "100%|██████████| 3538/3538 [02:38<00:00, 22.26it/s]\n"
     ]
    },
    {
     "name": "stdout",
     "output_type": "stream",
     "text": [
      "epoch_32,  train_loss = 0.18702, val_metrics = {'d1': 0.874, 'abs_rel': 0.187, 'rmse': 1.444, 'mae': 0.769, 'silog': 0.208}\n"
     ]
    },
    {
     "name": "stderr",
     "output_type": "stream",
     "text": [
      "100%|██████████| 8402/8402 [59:43<00:00,  2.34it/s]\n",
      "100%|██████████| 3538/3538 [02:38<00:00, 22.28it/s]\n"
     ]
    },
    {
     "name": "stdout",
     "output_type": "stream",
     "text": [
      "epoch_33,  train_loss = 0.18426, val_metrics = {'d1': 0.874, 'abs_rel': 0.186, 'rmse': 1.442, 'mae': 0.769, 'silog': 0.207}\n"
     ]
    },
    {
     "name": "stderr",
     "output_type": "stream",
     "text": [
      "100%|██████████| 8402/8402 [59:44<00:00,  2.34it/s] \n",
      "100%|██████████| 3538/3538 [02:39<00:00, 22.20it/s]\n"
     ]
    },
    {
     "name": "stdout",
     "output_type": "stream",
     "text": [
      "epoch_34,  train_loss = 0.18187, val_metrics = {'d1': 0.872, 'abs_rel': 0.183, 'rmse': 1.456, 'mae': 0.777, 'silog': 0.208}\n"
     ]
    },
    {
     "name": "stderr",
     "output_type": "stream",
     "text": [
      "100%|██████████| 8402/8402 [59:43<00:00,  2.34it/s]\n",
      "100%|██████████| 3538/3538 [02:38<00:00, 22.27it/s]\n"
     ]
    },
    {
     "name": "stdout",
     "output_type": "stream",
     "text": [
      "epoch_35,  train_loss = 0.17973, val_metrics = {'d1': 0.876, 'abs_rel': 0.185, 'rmse': 1.433, 'mae': 0.761, 'silog': 0.206}\n"
     ]
    },
    {
     "name": "stderr",
     "output_type": "stream",
     "text": [
      "100%|██████████| 8402/8402 [59:44<00:00,  2.34it/s] \n",
      "100%|██████████| 3538/3538 [02:38<00:00, 22.26it/s]\n"
     ]
    },
    {
     "name": "stdout",
     "output_type": "stream",
     "text": [
      "epoch_36,  train_loss = 0.17730, val_metrics = {'d1': 0.876, 'abs_rel': 0.182, 'rmse': 1.433, 'mae': 0.759, 'silog': 0.205}\n"
     ]
    },
    {
     "name": "stderr",
     "output_type": "stream",
     "text": [
      "100%|██████████| 8402/8402 [59:42<00:00,  2.35it/s]\n",
      "100%|██████████| 3538/3538 [02:38<00:00, 22.27it/s]\n"
     ]
    },
    {
     "name": "stdout",
     "output_type": "stream",
     "text": [
      "epoch_37,  train_loss = 0.17513, val_metrics = {'d1': 0.878, 'abs_rel': 0.189, 'rmse': 1.411, 'mae': 0.748, 'silog': 0.204}\n"
     ]
    },
    {
     "name": "stderr",
     "output_type": "stream",
     "text": [
      "100%|██████████| 8402/8402 [59:35<00:00,  2.35it/s]\n",
      "100%|██████████| 3538/3538 [02:39<00:00, 22.21it/s]\n"
     ]
    },
    {
     "name": "stdout",
     "output_type": "stream",
     "text": [
      "epoch_38,  train_loss = 0.17317, val_metrics = {'d1': 0.878, 'abs_rel': 0.181, 'rmse': 1.421, 'mae': 0.749, 'silog': 0.204}\n"
     ]
    },
    {
     "name": "stderr",
     "output_type": "stream",
     "text": [
      "100%|██████████| 8402/8402 [1:00:40<00:00,  2.31it/s]\n",
      "100%|██████████| 3538/3538 [02:39<00:00, 22.15it/s]\n"
     ]
    },
    {
     "name": "stdout",
     "output_type": "stream",
     "text": [
      "epoch_39,  train_loss = 0.17140, val_metrics = {'d1': 0.878, 'abs_rel': 0.182, 'rmse': 1.408, 'mae': 0.744, 'silog': 0.203}\n"
     ]
    },
    {
     "name": "stderr",
     "output_type": "stream",
     "text": [
      "100%|██████████| 8402/8402 [59:53<00:00,  2.34it/s] \n",
      "100%|██████████| 3538/3538 [02:39<00:00, 22.25it/s]\n"
     ]
    },
    {
     "name": "stdout",
     "output_type": "stream",
     "text": [
      "epoch_40,  train_loss = 0.16969, val_metrics = {'d1': 0.879, 'abs_rel': 0.184, 'rmse': 1.406, 'mae': 0.739, 'silog': 0.203}\n"
     ]
    },
    {
     "name": "stderr",
     "output_type": "stream",
     "text": [
      " 84%|████████▎ | 7029/8402 [50:47<09:55,  2.31it/s] \n"
     ]
    },
    {
     "ename": "KeyboardInterrupt",
     "evalue": "",
     "output_type": "error",
     "traceback": [
      "\u001b[0;31m---------------------------------------------------------------------------\u001b[0m\n",
      "\u001b[0;31mKeyboardInterrupt\u001b[0m                         Traceback (most recent call last)\n",
      "Cell \u001b[0;32mIn[26], line 8\u001b[0m\n",
      "\u001b[1;32m      6\u001b[0m os\u001b[38;5;241m.\u001b[39menviron[\u001b[38;5;124m\"\u001b[39m\u001b[38;5;124mPYTORCH_CUDA_ALLOC_CONF\u001b[39m\u001b[38;5;124m\"\u001b[39m] \u001b[38;5;241m=\u001b[39m \u001b[38;5;124m\"\u001b[39m\u001b[38;5;124mexpandable_segments:True\u001b[39m\u001b[38;5;124m\"\u001b[39m\n",
      "\u001b[1;32m      7\u001b[0m \u001b[38;5;66;03m#You can run this code with 1 gpu. Just set num_processes=1\u001b[39;00m\n",
      "\u001b[0;32m----> 8\u001b[0m notebook_launcher(train_fn, num_processes\u001b[38;5;241m=\u001b[39m\u001b[38;5;241m1\u001b[39m)\n",
      "\n",
      "File \u001b[0;32m~/anaconda3/lib/python3.12/site-packages/accelerate/launchers.py:265\u001b[0m, in \u001b[0;36mnotebook_launcher\u001b[0;34m(function, args, num_processes, mixed_precision, use_port, master_addr, node_rank, num_nodes, rdzv_backend, rdzv_endpoint, rdzv_conf, rdzv_id, max_restarts, monitor_interval, log_line_prefix_template)\u001b[0m\n",
      "\u001b[1;32m    263\u001b[0m \u001b[38;5;28;01melse\u001b[39;00m:\n",
      "\u001b[1;32m    264\u001b[0m     \u001b[38;5;28mprint\u001b[39m(\u001b[38;5;124m\"\u001b[39m\u001b[38;5;124mLaunching training on CPU.\u001b[39m\u001b[38;5;124m\"\u001b[39m)\n",
      "\u001b[0;32m--> 265\u001b[0m function(\u001b[38;5;241m*\u001b[39margs)\n",
      "\n",
      "Cell \u001b[0;32mIn[24], line 64\u001b[0m, in \u001b[0;36mtrain_fn\u001b[0;34m()\u001b[0m\n",
      "\u001b[1;32m     61\u001b[0m loss \u001b[38;5;241m=\u001b[39m criterion(pred, depth, (depth \u001b[38;5;241m<\u001b[39m\u001b[38;5;241m=\u001b[39m max_depth) \u001b[38;5;241m&\u001b[39m (depth \u001b[38;5;241m>\u001b[39m \u001b[38;5;241m0\u001b[39m))\n",
      "\u001b[1;32m     63\u001b[0m accelerator\u001b[38;5;241m.\u001b[39mbackward(loss)\n",
      "\u001b[0;32m---> 64\u001b[0m optim\u001b[38;5;241m.\u001b[39mstep()\n",
      "\u001b[1;32m     65\u001b[0m scheduler\u001b[38;5;241m.\u001b[39mstep()\n",
      "\u001b[1;32m     67\u001b[0m train_loss \u001b[38;5;241m+\u001b[39m\u001b[38;5;241m=\u001b[39m loss\u001b[38;5;241m.\u001b[39mdetach()\n",
      "\n",
      "File \u001b[0;32m~/anaconda3/lib/python3.12/site-packages/accelerate/optimizer.py:165\u001b[0m, in \u001b[0;36mAcceleratedOptimizer.step\u001b[0;34m(self, closure)\u001b[0m\n",
      "\u001b[1;32m    162\u001b[0m \u001b[38;5;28;01mif\u001b[39;00m \u001b[38;5;28mself\u001b[39m\u001b[38;5;241m.\u001b[39mscaler \u001b[38;5;129;01mis\u001b[39;00m \u001b[38;5;129;01mnot\u001b[39;00m \u001b[38;5;28;01mNone\u001b[39;00m:\n",
      "\u001b[1;32m    163\u001b[0m     \u001b[38;5;28mself\u001b[39m\u001b[38;5;241m.\u001b[39moptimizer\u001b[38;5;241m.\u001b[39mstep \u001b[38;5;241m=\u001b[39m \u001b[38;5;28mself\u001b[39m\u001b[38;5;241m.\u001b[39m_optimizer_patched_step_method\n",
      "\u001b[0;32m--> 165\u001b[0m     \u001b[38;5;28mself\u001b[39m\u001b[38;5;241m.\u001b[39mscaler\u001b[38;5;241m.\u001b[39mstep(\u001b[38;5;28mself\u001b[39m\u001b[38;5;241m.\u001b[39moptimizer, closure)\n",
      "\u001b[1;32m    166\u001b[0m     \u001b[38;5;28mself\u001b[39m\u001b[38;5;241m.\u001b[39mscaler\u001b[38;5;241m.\u001b[39mupdate()\n",
      "\u001b[1;32m    168\u001b[0m     \u001b[38;5;28;01mif\u001b[39;00m \u001b[38;5;129;01mnot\u001b[39;00m \u001b[38;5;28mself\u001b[39m\u001b[38;5;241m.\u001b[39m_accelerate_step_called:\n",
      "\u001b[1;32m    169\u001b[0m         \u001b[38;5;66;03m# If the optimizer step was skipped, gradient overflow was detected.\u001b[39;00m\n",
      "\n",
      "File \u001b[0;32m~/anaconda3/lib/python3.12/site-packages/torch/amp/grad_scaler.py:457\u001b[0m, in \u001b[0;36mGradScaler.step\u001b[0;34m(self, optimizer, *args, **kwargs)\u001b[0m\n",
      "\u001b[1;32m    451\u001b[0m     \u001b[38;5;28mself\u001b[39m\u001b[38;5;241m.\u001b[39munscale_(optimizer)\n",
      "\u001b[1;32m    453\u001b[0m \u001b[38;5;28;01massert\u001b[39;00m (\n",
      "\u001b[1;32m    454\u001b[0m     \u001b[38;5;28mlen\u001b[39m(optimizer_state[\u001b[38;5;124m\"\u001b[39m\u001b[38;5;124mfound_inf_per_device\u001b[39m\u001b[38;5;124m\"\u001b[39m]) \u001b[38;5;241m>\u001b[39m \u001b[38;5;241m0\u001b[39m\n",
      "\u001b[1;32m    455\u001b[0m ), \u001b[38;5;124m\"\u001b[39m\u001b[38;5;124mNo inf checks were recorded for this optimizer.\u001b[39m\u001b[38;5;124m\"\u001b[39m\n",
      "\u001b[0;32m--> 457\u001b[0m retval \u001b[38;5;241m=\u001b[39m \u001b[38;5;28mself\u001b[39m\u001b[38;5;241m.\u001b[39m_maybe_opt_step(optimizer, optimizer_state, \u001b[38;5;241m*\u001b[39margs, \u001b[38;5;241m*\u001b[39m\u001b[38;5;241m*\u001b[39mkwargs)\n",
      "\u001b[1;32m    459\u001b[0m optimizer_state[\u001b[38;5;124m\"\u001b[39m\u001b[38;5;124mstage\u001b[39m\u001b[38;5;124m\"\u001b[39m] \u001b[38;5;241m=\u001b[39m OptState\u001b[38;5;241m.\u001b[39mSTEPPED\n",
      "\u001b[1;32m    461\u001b[0m \u001b[38;5;28;01mreturn\u001b[39;00m retval\n",
      "\n",
      "File \u001b[0;32m~/anaconda3/lib/python3.12/site-packages/torch/amp/grad_scaler.py:351\u001b[0m, in \u001b[0;36mGradScaler._maybe_opt_step\u001b[0;34m(self, optimizer, optimizer_state, *args, **kwargs)\u001b[0m\n",
      "\u001b[1;32m    343\u001b[0m \u001b[38;5;28;01mdef\u001b[39;00m \u001b[38;5;21m_maybe_opt_step\u001b[39m(\n",
      "\u001b[1;32m    344\u001b[0m     \u001b[38;5;28mself\u001b[39m,\n",
      "\u001b[1;32m    345\u001b[0m     optimizer: torch\u001b[38;5;241m.\u001b[39moptim\u001b[38;5;241m.\u001b[39mOptimizer,\n",
      "\u001b[0;32m   (...)\u001b[0m\n",
      "\u001b[1;32m    348\u001b[0m     \u001b[38;5;241m*\u001b[39m\u001b[38;5;241m*\u001b[39mkwargs: Any,\n",
      "\u001b[1;32m    349\u001b[0m ) \u001b[38;5;241m-\u001b[39m\u001b[38;5;241m>\u001b[39m Optional[\u001b[38;5;28mfloat\u001b[39m]:\n",
      "\u001b[1;32m    350\u001b[0m     retval: Optional[\u001b[38;5;28mfloat\u001b[39m] \u001b[38;5;241m=\u001b[39m \u001b[38;5;28;01mNone\u001b[39;00m\n",
      "\u001b[0;32m--> 351\u001b[0m     \u001b[38;5;28;01mif\u001b[39;00m \u001b[38;5;129;01mnot\u001b[39;00m \u001b[38;5;28msum\u001b[39m(v\u001b[38;5;241m.\u001b[39mitem() \u001b[38;5;28;01mfor\u001b[39;00m v \u001b[38;5;129;01min\u001b[39;00m optimizer_state[\u001b[38;5;124m\"\u001b[39m\u001b[38;5;124mfound_inf_per_device\u001b[39m\u001b[38;5;124m\"\u001b[39m]\u001b[38;5;241m.\u001b[39mvalues()):\n",
      "\u001b[1;32m    352\u001b[0m         retval \u001b[38;5;241m=\u001b[39m optimizer\u001b[38;5;241m.\u001b[39mstep(\u001b[38;5;241m*\u001b[39margs, \u001b[38;5;241m*\u001b[39m\u001b[38;5;241m*\u001b[39mkwargs)\n",
      "\u001b[1;32m    353\u001b[0m     \u001b[38;5;28;01mreturn\u001b[39;00m retval\n",
      "\n",
      "File \u001b[0;32m~/anaconda3/lib/python3.12/site-packages/torch/amp/grad_scaler.py:351\u001b[0m, in \u001b[0;36m<genexpr>\u001b[0;34m(.0)\u001b[0m\n",
      "\u001b[1;32m    343\u001b[0m \u001b[38;5;28;01mdef\u001b[39;00m \u001b[38;5;21m_maybe_opt_step\u001b[39m(\n",
      "\u001b[1;32m    344\u001b[0m     \u001b[38;5;28mself\u001b[39m,\n",
      "\u001b[1;32m    345\u001b[0m     optimizer: torch\u001b[38;5;241m.\u001b[39moptim\u001b[38;5;241m.\u001b[39mOptimizer,\n",
      "\u001b[0;32m   (...)\u001b[0m\n",
      "\u001b[1;32m    348\u001b[0m     \u001b[38;5;241m*\u001b[39m\u001b[38;5;241m*\u001b[39mkwargs: Any,\n",
      "\u001b[1;32m    349\u001b[0m ) \u001b[38;5;241m-\u001b[39m\u001b[38;5;241m>\u001b[39m Optional[\u001b[38;5;28mfloat\u001b[39m]:\n",
      "\u001b[1;32m    350\u001b[0m     retval: Optional[\u001b[38;5;28mfloat\u001b[39m] \u001b[38;5;241m=\u001b[39m \u001b[38;5;28;01mNone\u001b[39;00m\n",
      "\u001b[0;32m--> 351\u001b[0m     \u001b[38;5;28;01mif\u001b[39;00m \u001b[38;5;129;01mnot\u001b[39;00m \u001b[38;5;28msum\u001b[39m(v\u001b[38;5;241m.\u001b[39mitem() \u001b[38;5;28;01mfor\u001b[39;00m v \u001b[38;5;129;01min\u001b[39;00m optimizer_state[\u001b[38;5;124m\"\u001b[39m\u001b[38;5;124mfound_inf_per_device\u001b[39m\u001b[38;5;124m\"\u001b[39m]\u001b[38;5;241m.\u001b[39mvalues()):\n",
      "\u001b[1;32m    352\u001b[0m         retval \u001b[38;5;241m=\u001b[39m optimizer\u001b[38;5;241m.\u001b[39mstep(\u001b[38;5;241m*\u001b[39margs, \u001b[38;5;241m*\u001b[39m\u001b[38;5;241m*\u001b[39mkwargs)\n",
      "\u001b[1;32m    353\u001b[0m     \u001b[38;5;28;01mreturn\u001b[39;00m retval\n",
      "\n",
      "\u001b[0;31mKeyboardInterrupt\u001b[0m: "
     ]
    }
   ],
   "source": [
    "# Purge cuda memory and collect garbage\n",
    "torch.cuda.empty_cache()\n",
    "gc.collect()\n",
    "\n",
    "# Allow exapandable segments\n",
    "os.environ[\"PYTORCH_CUDA_ALLOC_CONF\"] = \"expandable_segments:True\"\n",
    "#You can run this code with 1 gpu. Just set num_processes=1\n",
    "notebook_launcher(train_fn, num_processes=1)\n",
    "# ignore the error. it's harmless\n",
    " "
   ]
  },
  {
   "cell_type": "markdown",
   "metadata": {},
   "source": [
    "## Plot Training Results"
   ]
  },
  {
   "cell_type": "code",
   "execution_count": null,
   "metadata": {},
   "outputs": [
    {
     "name": "stdout",
     "output_type": "stream",
     "text": [
      "   epoch  train_loss  best_val_absrel     d1  abs_rel   rmse    mae  silog\n",
      "0      1    0.598956            0.483  0.467    0.483  2.498  1.685  0.367\n",
      "1      2    0.403796            0.268  0.706    0.268  2.235  1.319  0.298\n",
      "2      3    0.370589            0.268  0.706    0.276  2.033  1.205  0.291\n",
      "3      4    0.351727            0.268  0.731    0.271  2.053  1.222  0.282\n",
      "4      5    0.338880            0.268  0.619    0.333  2.036  1.312  0.296\n"
     ]
    },
    {
     "data": {
      "image/png": "[encoded data removed]",
      "text/plain": [
       "<Figure size 1400x600 with 2 Axes>"
      ]
     },
     "metadata": {},
     "output_type": "display_data"
    }
   ],
   "source": [
    "\n",
    "\n",
    "# Read the CSV log file\n",
    "csv_log = pd.read_csv(output_path)  \n",
    "\n",
    "print(csv_log.head())\n",
    "# Create a figure for training and validation loss\n",
    "plt.figure(figsize=(14, 6))\n",
    "\n",
    "# Plotting training and validation loss\n",
    "plt.subplot(1, 2, 1)\n",
    "plt.plot(csv_log['epoch'], csv_log['train_loss'], label='Training Loss', color='blue', marker='o')\n",
    "plt.plot(csv_log['epoch'], csv_log['best_val_absrel'], label='Validation Loss (AbsRel)', color='orange', marker='o')\n",
    "plt.plot(csv_log['epoch'], csv_log['silog'], label='Validation Loss (Silog)', color='green', marker='o')\n",
    "plt.title('Training and Validation Loss')\n",
    "plt.xlabel('Epochs')\n",
    "plt.ylabel('Loss')\n",
    "plt.legend()\n",
    "plt.grid(color='black', linestyle='-', linewidth=0.5)\n",
    "\n",
    "# Create a figure for metrics per epoch\n",
    "metrics = ['d1', 'abs_rel', 'rmse', 'mae', 'silog']\n",
    "colors = sns.color_palette(\"Dark2\", len(metrics))  # Different colors for each metric\n",
    "\n",
    "plt.subplot(1, 2, 2)\n",
    "for i, metric in enumerate(metrics):\n",
    "    plt.plot(csv_log['epoch'], csv_log[metric], label=metric, color=colors[i], marker='o')\n",
    "\n",
    "plt.title('Metrics per Epoch')\n",
    "plt.xlabel('Epochs')\n",
    "plt.ylabel('Metric Value')\n",
    "plt.legend()\n",
    "plt.grid(color='black', linestyle='-', linewidth=0.5)\n",
    "\n",
    "# Show the plots\n",
    "plt.tight_layout()\n",
    "plt.show()"
   ]
  },
  {
   "cell_type": "markdown",
   "metadata": {},
   "source": [
    "## Inference on Polycam Data"
   ]
  },
  {
   "cell_type": "code",
   "execution_count": null,
   "metadata": {},
   "outputs": [
    {
     "name": "stderr",
     "output_type": "stream",
     "text": [
      "/tmp/ipykernel_332964/2870507993.py:2: FutureWarning: You are using `torch.load` with `weights_only=False` (the current default value), which uses the default pickle module implicitly. It is possible to construct malicious pickle data which will execute arbitrary code during unpickling (See https://github.com/pytorch/pytorch/blob/main/SECURITY.md#untrusted-models for more details). In a future release, the default value for `weights_only` will be flipped to `True`. This limits the functions that could be executed during unpickling. Arbitrary objects will no longer be allowed to be loaded via this mode unless they are explicitly allowlisted by the user via `torch.serialization.add_safe_globals`. We recommend you start setting `weights_only=True` for any use case where you don't have full control of the loaded file. Please open an issue on GitHub for any issues related to this experimental feature.\n",
      "  model.load_state_dict(torch.load(save_model_path))\n"
     ]
    },
    {
     "data": {
      "text/plain": [
       "<All keys matched successfully>"
      ]
     },
     "metadata": {},
     "output_type": "display_data"
    }
   ],
   "source": [
    "model = DepthAnythingV2(**{**model_configs[model_encoder], 'max_depth': max_depth}).to('cuda')\n",
    "model.load_state_dict(torch.load(save_model_path))"
   ]
  }
 ],
 "metadata": {
  "kernelspec": {
   "display_name": "base",
   "language": "python",
   "name": "python3"
  },
  "language_info": {
   "codemirror_mode": {
    "name": "ipython",
    "version": 3
   },
   "file_extension": ".py",
   "mimetype": "text/x-python",
   "name": "python",
   "nbconvert_exporter": "python",
   "pygments_lexer": "ipython3",
   "version": "3.12.2"
  }
 },
 "nbformat": 4,
 "nbformat_minor": 2
}
